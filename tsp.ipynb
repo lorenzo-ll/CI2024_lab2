{
 "cells": [
  {
   "cell_type": "code",
   "execution_count": 1,
   "metadata": {},
   "outputs": [
    {
     "name": "stderr",
     "output_type": "stream",
     "text": [
      "e:\\Poli NUOVO\\Computational Intelligence\\.venv\\Lib\\site-packages\\tqdm\\auto.py:21: TqdmWarning: IProgress not found. Please update jupyter and ipywidgets. See https://ipywidgets.readthedocs.io/en/stable/user_install.html\n",
      "  from .autonotebook import tqdm as notebook_tqdm\n"
     ]
    }
   ],
   "source": [
    "import logging\n",
    "from itertools import combinations\n",
    "import pandas as pd\n",
    "import numpy as np\n",
    "from geopy.distance import geodesic\n",
    "import networkx as nx\n",
    "import random\n",
    "from time import time\n",
    "from tqdm.auto import tqdm\n",
    "\n",
    "from icecream import ic\n",
    "\n",
    "logging.basicConfig(level=logging.DEBUG)"
   ]
  },
  {
   "cell_type": "code",
   "execution_count": 2,
   "metadata": {},
   "outputs": [
    {
     "data": {
      "text/html": [
       "<div>\n",
       "<style scoped>\n",
       "    .dataframe tbody tr th:only-of-type {\n",
       "        vertical-align: middle;\n",
       "    }\n",
       "\n",
       "    .dataframe tbody tr th {\n",
       "        vertical-align: top;\n",
       "    }\n",
       "\n",
       "    .dataframe thead th {\n",
       "        text-align: right;\n",
       "    }\n",
       "</style>\n",
       "<table border=\"1\" class=\"dataframe\">\n",
       "  <thead>\n",
       "    <tr style=\"text-align: right;\">\n",
       "      <th></th>\n",
       "      <th>name</th>\n",
       "      <th>lat</th>\n",
       "      <th>lon</th>\n",
       "    </tr>\n",
       "  </thead>\n",
       "  <tbody>\n",
       "    <tr>\n",
       "      <th>0</th>\n",
       "      <td>Abakan</td>\n",
       "      <td>53.72</td>\n",
       "      <td>91.43</td>\n",
       "    </tr>\n",
       "    <tr>\n",
       "      <th>1</th>\n",
       "      <td>Achinsk</td>\n",
       "      <td>56.28</td>\n",
       "      <td>90.50</td>\n",
       "    </tr>\n",
       "    <tr>\n",
       "      <th>2</th>\n",
       "      <td>Almetyevsk</td>\n",
       "      <td>54.90</td>\n",
       "      <td>52.31</td>\n",
       "    </tr>\n",
       "    <tr>\n",
       "      <th>3</th>\n",
       "      <td>Angarsk</td>\n",
       "      <td>52.57</td>\n",
       "      <td>103.91</td>\n",
       "    </tr>\n",
       "    <tr>\n",
       "      <th>4</th>\n",
       "      <td>Arkhangelsk</td>\n",
       "      <td>64.57</td>\n",
       "      <td>40.53</td>\n",
       "    </tr>\n",
       "  </tbody>\n",
       "</table>\n",
       "</div>"
      ],
      "text/plain": [
       "          name    lat     lon\n",
       "0       Abakan  53.72   91.43\n",
       "1      Achinsk  56.28   90.50\n",
       "2   Almetyevsk  54.90   52.31\n",
       "3      Angarsk  52.57  103.91\n",
       "4  Arkhangelsk  64.57   40.53"
      ]
     },
     "execution_count": 2,
     "metadata": {},
     "output_type": "execute_result"
    }
   ],
   "source": [
    "CITIES = pd.read_csv('cities/russia.csv', header=None, names=['name', 'lat', 'lon'])\n",
    "DIST_MATRIX = np.zeros((len(CITIES), len(CITIES)))\n",
    "for c1, c2 in combinations(CITIES.itertuples(), 2):\n",
    "    DIST_MATRIX[c1.Index, c2.Index] = DIST_MATRIX[c2.Index, c1.Index] = geodesic(\n",
    "        (c1.lat, c1.lon), (c2.lat, c2.lon)\n",
    "    ).km\n",
    "CITIES.head()"
   ]
  },
  {
   "cell_type": "markdown",
   "metadata": {},
   "source": [
    "## Lab2 - TSP\n",
    "\n",
    "https://www.wolframcloud.com/obj/giovanni.squillero/Published/Lab2-tsp.nb"
   ]
  },
  {
   "cell_type": "code",
   "execution_count": 3,
   "metadata": {},
   "outputs": [],
   "source": [
    "def tsp_cost(tsp):\n",
    "    assert tsp[0] == tsp[-1]\n",
    "    assert set(tsp) == set(range(len(CITIES)))\n",
    "\n",
    "    tot_cost = 0\n",
    "    for c1, c2 in zip(tsp, tsp[1:]):\n",
    "        tot_cost += DIST_MATRIX[c1, c2]\n",
    "    return tot_cost"
   ]
  },
  {
   "cell_type": "markdown",
   "metadata": {},
   "source": [
    "## Greedy Algorithm (Multiple tries) - Faster but not optimal solution\n",
    "\n",
    "This algorithm provides a fast solution using a greedy approach, which we try to improve by running it multiple times and randomizing the start at each iteration, and ultimately choosing the best."
   ]
  },
  {
   "cell_type": "code",
   "execution_count": 4,
   "metadata": {},
   "outputs": [
    {
     "name": "stderr",
     "output_type": "stream",
     "text": [
      "INFO:root:Tour starting from city 75: length 43142.53 km. Found a path of 167 steps\n",
      "INFO:root:Tour starting from city 99: length 43754.55 km. Found a path of 167 steps\n",
      "INFO:root:Tour starting from city 73: length 45479.78 km. Found a path of 167 steps\n",
      "INFO:root:Tour starting from city 46: length 44662.17 km. Found a path of 167 steps\n",
      "INFO:root:Tour starting from city 95: length 44700.83 km. Found a path of 167 steps\n",
      "INFO:root:Tour starting from city 80: length 43689.57 km. Found a path of 167 steps\n",
      "INFO:root:Tour starting from city 106: length 42548.23 km. Found a path of 167 steps\n",
      "INFO:root:Tour starting from city 21: length 42137.49 km. Found a path of 167 steps\n",
      "INFO:root:Tour starting from city 91: length 43410.46 km. Found a path of 167 steps\n",
      "INFO:root:Tour starting from city 155: length 45194.82 km. Found a path of 167 steps\n",
      "INFO:root:The best tour found has a length of 42137.49 km. Found a path of 167 steps\n"
     ]
    }
   ],
   "source": [
    "def greedy_tsp(start_city):\n",
    "    unvisited = set(range(len(CITIES)))\n",
    "    unvisited.remove(start_city)\n",
    "    tour = [start_city]\n",
    "    current_city = start_city\n",
    "    \n",
    "    while unvisited:\n",
    "        next_city = min(unvisited, key=lambda city: DIST_MATRIX[current_city, city])\n",
    "        tour.append(next_city)\n",
    "        unvisited.remove(next_city)\n",
    "        current_city = next_city\n",
    "\n",
    "    tour.append(start_city)\n",
    "    return tour\n",
    "\n",
    "def generate_random_tour():\n",
    "    tour = list(range(len(CITIES)))\n",
    "    random.shuffle(tour)\n",
    "    tour.append(tour[0]) \n",
    "    return tour\n",
    "\n",
    "def tsp_cost(tour):\n",
    "    cost = 0\n",
    "    for i in range(len(tour) - 1):\n",
    "        cost += DIST_MATRIX[tour[i], tour[i + 1]]\n",
    "    return cost\n",
    "\n",
    "best_tour = None\n",
    "best_cost = float('inf')\n",
    "\n",
    "for _ in range(10):\n",
    "    start_city = random.choice(range(len(CITIES)))\n",
    "    \n",
    "    greedy_tour = greedy_tsp(start_city)\n",
    "    greedy_cost = tsp_cost(greedy_tour)\n",
    "    \n",
    "    logging.info(f\"Tour starting from city {start_city}: length {greedy_cost:.2f} km. Found a path of {len(greedy_tour) - 1} steps\")\n",
    "    \n",
    "    if greedy_cost < best_cost:\n",
    "        best_cost = greedy_cost\n",
    "        best_tour = greedy_tour\n",
    "\n",
    "logging.info(f\"The best tour found has a length of {best_cost:.2f} km. Found a path of {len(greedy_tour) - 1} steps\")\n"
   ]
  },
  {
   "cell_type": "markdown",
   "metadata": {},
   "source": [
    "## Optimized Inver-Over - Slow but more accurate solution\n",
    "\n",
    "This code uses an initial local improvement (had to be toned down a bit because of very long execution times) and then applies inver-over.  \n",
    "\n",
    "Please note that the parameters may not always be optimal and might need changes depending on the problem.  \n",
    "\n",
    "Population is half random and half computed with a greedy euristic."
   ]
  },
  {
   "cell_type": "code",
   "execution_count": null,
   "metadata": {},
   "outputs": [
    {
     "name": "stdout",
     "output_type": "stream",
     "text": [
      "Initializing population...\n",
      "Applying initial local improvement...\n"
     ]
    },
    {
     "name": "stderr",
     "output_type": "stream",
     "text": [
      "100%|██████████| 700/700 [00:01<00:00, 356.35it/s]\n"
     ]
    },
    {
     "name": "stdout",
     "output_type": "stream",
     "text": [
      "\n",
      "Starting evolution...\n",
      "Initial length: 39313.86 km\n"
     ]
    },
    {
     "name": "stderr",
     "output_type": "stream",
     "text": [
      "Generations:   0%|          | 1/5000 [00:00<14:18,  5.82it/s, best=38190.28km]"
     ]
    },
    {
     "name": "stdout",
     "output_type": "stream",
     "text": [
      "\n",
      "Generation 0:\n",
      "Best length: 38254.63 km\n"
     ]
    },
    {
     "name": "stderr",
     "output_type": "stream",
     "text": [
      "Generations:   7%|▋         | 366/5000 [01:09<14:33,  5.30it/s, best=34950.13km]"
     ]
    },
    {
     "name": "stdout",
     "output_type": "stream",
     "text": [
      "\n",
      "Early stopping after 366 generations without improvements\n",
      "\n",
      "Optimization completed!\n",
      "Total length: 34950.13 km\n",
      "Total number of steps: 128100\n",
      "\n"
     ]
    },
    {
     "name": "stderr",
     "output_type": "stream",
     "text": [
      "\n"
     ]
    }
   ],
   "source": [
    "def inver_over_tsp(CITIES, DIST_MATRIX, population_size, generations, \n",
    "                        p_mutation, max_no_improve, progress_interval):\n",
    "    \n",
    "    #Faster version of inver over\n",
    "    num_cities = len(CITIES)\n",
    "    \n",
    "    def create_random_tour():\n",
    "        #Random path generation\n",
    "        tour = list(range(num_cities))\n",
    "        random.shuffle(tour)\n",
    "        return tour\n",
    "    \n",
    "    def create_smart_individual():\n",
    "        #We use a greedy approach for a better starting point\n",
    "        unvisited = set(range(num_cities))\n",
    "        tour = []\n",
    "        current = random.randrange(num_cities)\n",
    "        tour.append(current)\n",
    "        unvisited.remove(current)\n",
    "        \n",
    "        while unvisited:\n",
    "            # Take only the 2 closest cities to be faster\n",
    "            candidates = sorted(unvisited, \n",
    "                             key=lambda x: DIST_MATRIX[current, x])[:2]\n",
    "            current = random.choice(candidates)\n",
    "            tour.append(current)\n",
    "            unvisited.remove(current)\n",
    "            \n",
    "        return tour\n",
    "    \n",
    "    def fast_local_improvement(tour):\n",
    "        for _ in range(10):  # limiting the number of iterations\n",
    "            # random choice of the segment\n",
    "            positions = random.sample(range(1, len(tour) - 2), min(30, len(tour) - 3))\n",
    "            \n",
    "            for i in positions:\n",
    "                for j in range(i + 1, min(i + 15, len(tour) - 1)):\n",
    "                    change = -DIST_MATRIX[tour[i-1], tour[i]] \\\n",
    "                            -DIST_MATRIX[tour[j], tour[j+1]] \\\n",
    "                            +DIST_MATRIX[tour[i-1], tour[j]] \\\n",
    "                            +DIST_MATRIX[tour[i], tour[j+1]]\n",
    "                    \n",
    "                    if change < -0.05:\n",
    "                        tour[i:j+1] = reversed(tour[i:j+1])\n",
    "                        break\n",
    "                        \n",
    "        return tour\n",
    "    \n",
    "    def smart_mutation(tour):\n",
    "        #Mutation that changes nearby segments\n",
    "        if len(tour) <= 3:\n",
    "            return tour\n",
    "        \n",
    "        # choose random point and swap the segment\n",
    "        pos = random.randint(1, len(tour) - 3)\n",
    "        length = random.randint(2, min(5, len(tour) - pos - 1))\n",
    "        tour[pos:pos+length] = reversed(tour[pos:pos+length])\n",
    "        return tour\n",
    "    \n",
    "    def inver_over_operation(parent, population):\n",
    "        #Inver-over procedure\n",
    "        offspring = parent.copy()\n",
    "        \n",
    "        if random.random() < p_mutation:\n",
    "            return smart_mutation(offspring)\n",
    "            \n",
    "        city_pos = random.randint(0, num_cities - 1)\n",
    "        city = offspring[city_pos]\n",
    "        \n",
    "        # pick random parent from population\n",
    "        other_parent = random.choice(population)\n",
    "        other_pos = other_parent.index(city)\n",
    "        next_pos = (other_pos + 1) % len(other_parent)\n",
    "        next_city = other_parent[next_pos]\n",
    "        \n",
    "        next_city_pos = offspring.index(next_city)\n",
    "        \n",
    "        if next_city_pos != city_pos:\n",
    "            # inversion\n",
    "            if next_city_pos > city_pos:\n",
    "                offspring[city_pos:next_city_pos+1] = reversed(offspring[city_pos:next_city_pos+1])\n",
    "            else:\n",
    "                offspring[next_city_pos:city_pos+1] = reversed(offspring[next_city_pos:city_pos+1])\n",
    "        \n",
    "        return offspring\n",
    "    \n",
    "    def print_progress(gen, best_length, best_tour, elapsed_time):\n",
    "        #Prints current path\n",
    "        print(f\"\\nGeneration {gen}:\")\n",
    "        print(f\"Best length: {best_length:.2f} km\")\n",
    "\n",
    "    \n",
    "    print(\"Initializing population...\")\n",
    "    initial_pop_size = population_size * 2\n",
    "    #half population random and half with greedy euristic for better varaibility\n",
    "    population = ([create_smart_individual() for _ in range(initial_pop_size//2)] +\n",
    "                 [create_random_tour() for _ in range(initial_pop_size//2)])\n",
    "    \n",
    "    print(\"Applying initial local improvement...\")\n",
    "    population = [fast_local_improvement(tour) for tour in tqdm(population)]\n",
    "    \n",
    "    population = sorted(population, key=tsp_cost)[:population_size]\n",
    "    \n",
    "    best_tour = population[0]\n",
    "    best_length = tsp_cost(best_tour)\n",
    "    generations_without_improvement = 0\n",
    "    steps = 0 \n",
    "    start_time = time()\n",
    "    \n",
    "    print(\"\\nStarting evolution...\")\n",
    "    print(f\"Initial length: {best_length:.2f} km\")\n",
    "    \n",
    "    pbar = tqdm(range(generations), desc=\"Generations\")\n",
    "    \n",
    "    for gen in pbar:\n",
    "        if generations_without_improvement >= max_no_improve:\n",
    "            print(f\"\\nEarly stopping after {gen} generations without improvements\")\n",
    "            break\n",
    "            \n",
    "        new_population = []\n",
    "        improved = False\n",
    "        \n",
    "        for parent in population:\n",
    "            offspring = inver_over_operation(parent, population)\n",
    "            steps += 1 \n",
    "            \n",
    "            if random.random() < 0.1:  # 10% probability of applying local improvement\n",
    "                offspring = fast_local_improvement(offspring)\n",
    "                \n",
    "            new_population.append(offspring)\n",
    "            \n",
    "            offspring_length = tsp_cost(offspring)\n",
    "            if offspring_length < best_length:\n",
    "                best_length = offspring_length\n",
    "                best_tour = offspring.copy()\n",
    "                improved = True\n",
    "                pbar.set_postfix({'best': f'{best_length:.2f}km'})\n",
    "        \n",
    "        if improved:\n",
    "            generations_without_improvement = 0\n",
    "        else:\n",
    "            generations_without_improvement += 1\n",
    "        \n",
    "        combined = population + new_population\n",
    "        population = sorted(combined, key=tsp_cost)[:population_size]\n",
    "        \n",
    "        if gen % progress_interval == 0:\n",
    "            elapsed_time = time() - start_time\n",
    "            print_progress(gen, best_length, best_tour + [best_tour[0]], elapsed_time)\n",
    "    \n",
    "    best_tour.append(best_tour[0])\n",
    "    #total_time = time() - start_time\n",
    "    \n",
    "    return best_tour, best_length, gen, steps \n",
    "\n",
    "best_tour, best_length, generations_used, total_steps = inver_over_tsp(\n",
    "    CITIES, \n",
    "    DIST_MATRIX,\n",
    "    population_size=350, #population size (will be times 2)\n",
    "    generations=5000, #number of gen\n",
    "    p_mutation=0.15, #probability of mutation \n",
    "    max_no_improve=150, #stops after max no improve\n",
    "    progress_interval=1000 #prints feedback after n generations, tqdm should handle that anyway\n",
    ")\n",
    "\n",
    "print(\"\\nOptimization completed!\")\n",
    "print(f\"Total length: {best_length:.2f} km\")\n",
    "print(f\"Total number of steps: {total_steps}\\n\")\n",
    "\n"
   ]
  }
 ],
 "metadata": {
  "kernelspec": {
   "display_name": ".venv",
   "language": "python",
   "name": "python3"
  },
  "language_info": {
   "codemirror_mode": {
    "name": "ipython",
    "version": 3
   },
   "file_extension": ".py",
   "mimetype": "text/x-python",
   "name": "python",
   "nbconvert_exporter": "python",
   "pygments_lexer": "ipython3",
   "version": "3.12.7"
  }
 },
 "nbformat": 4,
 "nbformat_minor": 2
}
